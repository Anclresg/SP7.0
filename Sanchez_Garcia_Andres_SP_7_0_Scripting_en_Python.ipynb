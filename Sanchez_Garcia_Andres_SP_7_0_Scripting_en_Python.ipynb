{
  "nbformat": 4,
  "nbformat_minor": 0,
  "metadata": {
    "colab": {
      "provenance": []
    },
    "kernelspec": {
      "name": "python3",
      "display_name": "Python 3"
    },
    "language_info": {
      "name": "python"
    }
  },
  "cells": [
    {
      "cell_type": "markdown",
      "source": [
        "\n",
        "\n",
        "1.   Dos motos viajan a diferentes velocidades (**vel1** y **vel2**) y están distanciados por una distancia **dis**. La moto que se encuentra detrás lleva una velocidad mayor que la primera. Se pide realizar un script en python que solicite al usuario la distancia entre las motos en km y las velocidades de las mismas y con ello devolver en cuanto tiempo la moto 2 alcanzará a la moto 1."
      ],
      "metadata": {
        "id": "yU4DEf3HBMru"
      }
    },
    {
      "cell_type": "code",
      "source": [
        "distancia = float(input(\"distancia entre las motos (km): \"))\n",
        "vel1 = float(input(\"Velocidad de la primera moto en km/h: \"))\n",
        "vel2 = float(input(\"Velocidad de la segunda moto en km/h: \"))\n",
        "if vel2 <= vel1:\n",
        "    print(\"La moto 2 tiene que ir a más velocidad\")\n",
        "else:\n",
        "    tiempo = distancia / (vel2 - vel1)\n",
        "\n",
        "    print(f\"La segunda moto llegará a la primera moto en {tiempo} horas\")"
      ],
      "metadata": {
        "id": "nLCVu66ZDnpq"
      },
      "execution_count": null,
      "outputs": []
    },
    {
      "cell_type": "markdown",
      "source": [
        "2. El tutor de 2º ASIR esta organizando un viaje a Granada, y requiere determinar cuánto debe cobrar a cada alumne y cuánto debe pagar a la agencia de viajes. La forma de cobrar es la siguiente: si son 100 alumnos o más, el costo por cada alumno es de 65 euros; de 50 a 99 alumnos, el costo es de 70 euros, de 30 a 49, de 95 euros, y si son menos de 30, el costo de la guagua es de 4000 euros, sin importar el número de alumnos. Realice un script que permita determinar el pago a la compañía de guaguas y lo que debe pagar cada alumno por el viaje."
      ],
      "metadata": {
        "id": "bTX1b7swDmVd"
      }
    },
    {
      "cell_type": "code",
      "source": [
        "numalus = int(input(\"Numero de alumnos: \"))\n",
        "if numalus >= 100:\n",
        "  costoalum = 65\n",
        "  total = numalus * costoalum\n",
        "elif numalus >= 50:\n",
        "  costoalum = 70\n",
        "  total = numalus * costoalum\n",
        "elif numalus >= 30:\n",
        "  costoalum = 95\n",
        "  total = numalus * costoalum\n",
        "else:\n",
        "  total = 4000\n",
        "  costoalum = 0\n",
        "\n",
        "print(f\"El coste del viaje será de {total} €\")\n",
        "if costoalum > 0:\n",
        "    print(f\"Costo por alumno: {costoalum} €\")\n",
        "else:\n",
        "    print(\"El costo es fijo, no se puede mostrar\")"
      ],
      "metadata": {
        "id": "1_orCltzEQhh",
        "colab": {
          "base_uri": "https://localhost:8080/"
        },
        "outputId": "1748452d-1e8a-4d24-ca8c-c15c2af253a7"
      },
      "execution_count": null,
      "outputs": [
        {
          "output_type": "stream",
          "name": "stdout",
          "text": [
            "Numero de alumnos: 50\n",
            "El coste del viaje será de 3500 €\n",
            "Costo por alumno: 70 €\n"
          ]
        }
      ]
    },
    {
      "cell_type": "markdown",
      "source": [
        "3. Crea un script que permita adivinar un número. La aplicación genera un número aleatorio del 1 al 100. A continuación va pidiendo números y va respondiendo si el número a adivinar es mayor o menor que el introducido, además de los intentos que te quedan (tienes 10 intentos para acertarlo).  El programa termina cuando se acierta el número (además te dice en cuantos  intentos lo has acertado), si se llega al limite de intentos te muestra el  número que había generado."
      ],
      "metadata": {
        "id": "ksUYFjvcFhpq"
      }
    },
    {
      "cell_type": "code",
      "source": [
        "\n",
        "import random\n",
        "\n",
        "def adivina_numero():\n",
        "    numero_secreto = random.randint(1, 100)\n",
        "    intentos = 10\n",
        "\n",
        "    print(\"¡Bienvenido al juego de adivinar el número!\")\n",
        "    print(\"He generado un número aleatorio entre 1 y 100.\")\n",
        "\n",
        "    while intentos > 0:\n",
        "        try:\n",
        "            intento = int(input(f\"Intento {11 - intentos}: Introduce un número: \"))\n",
        "        except ValueError:\n",
        "            print(\"Entrada inválida. Por favor, introduce un número entero.\")\n",
        "            continue\n",
        "\n",
        "        if intento < numero_secreto:\n",
        "            print(\"El número secreto es mayor.\")\n",
        "        elif intento > numero_secreto:\n",
        "            print(\"El número secreto es menor.\")\n",
        "        else:\n",
        "            print(f\"¡Felicidades! Has acertado el número en {11 - intentos} intentos.\")\n",
        "            return\n",
        "\n",
        "        intentos -= 1\n",
        "        print(f\"Te quedan {intentos} intentos.\")\n",
        "\n",
        "    print(f\"Lo siento, has agotado tus intentos. El número secreto era {numero_secreto}.\")\n",
        "\n",
        "adivina_numero()\n"
      ],
      "metadata": {
        "id": "ePA_F-ggERZq",
        "colab": {
          "base_uri": "https://localhost:8080/"
        },
        "outputId": "80a8aadf-4e35-475a-bf55-bf6d41518879"
      },
      "execution_count": null,
      "outputs": [
        {
          "output_type": "stream",
          "name": "stdout",
          "text": [
            "¡Bienvenido al juego de adivinar el número!\n",
            "He generado un número aleatorio entre 1 y 100.\n",
            "Intento 1: Introduce un número: 4\n",
            "El número secreto es mayor.\n",
            "Te quedan 9 intentos.\n",
            "Intento 2: Introduce un número: 18\n",
            "El número secreto es mayor.\n",
            "Te quedan 8 intentos.\n",
            "Intento 3: Introduce un número: 55\n",
            "El número secreto es mayor.\n",
            "Te quedan 7 intentos.\n",
            "Intento 4: Introduce un número: 80\n",
            "El número secreto es mayor.\n",
            "Te quedan 6 intentos.\n",
            "Intento 5: Introduce un número: 99\n",
            "¡Felicidades! Has acertado el número en 5 intentos.\n"
          ]
        }
      ]
    },
    {
      "cell_type": "markdown",
      "source": [
        "4. Realizar un script que pida una String por teclado que contenga espacios y devuelva el número de palabrás que contenga"
      ],
      "metadata": {
        "id": "a8VUj4CxH5Lh"
      }
    },
    {
      "cell_type": "code",
      "source": [
        "def contar_palabras(cadena):\n",
        "  palabras = cadena.split()\n",
        "  return len(palabras)\n",
        "\n",
        "# Solicitar la cadena al usuario\n",
        "cadena = input(\"Introduce una cadena de texto: \")\n",
        "\n",
        "# Contar las palabras y mostrar el resultado\n",
        "numero_palabras = contar_palabras(cadena)\n",
        "print(\"El número de palabras en la cadena es:\", numero_palabras)\n"
      ],
      "metadata": {
        "id": "XjlclapwESaJ"
      },
      "execution_count": null,
      "outputs": []
    },
    {
      "cell_type": "markdown",
      "source": [
        "5. Realiza un script que se le pasen 5 notas de un alumno por teclado (comprendidas entre 0 y 10). A continuación debe mostrar todas las notas, la nota media, la nota más alta que ha sacado y la menor.\n",
        "\n"
      ],
      "metadata": {
        "id": "hyvKdc75IXd5"
      }
    },
    {
      "cell_type": "code",
      "source": [
        "notas = []\n",
        "for i in range(5):\n",
        "    while True:\n",
        "        try:\n",
        "            nota = float(input(f\"Introduce la nota {i+1} (entre 0 y 10): \"))\n",
        "            if 0 <= nota <= 10:\n",
        "                notas.append(nota)\n",
        "                break\n",
        "            else:\n",
        "                print(\"Nota inválida. Introduce un valor entre 0 y 10.\")\n",
        "        except ValueError:\n",
        "            print(\"Entrada inválida. Introduce un número.\")\n",
        "\n",
        "print(\"\\nNotas introducidas:\", notas)\n",
        "media = sum(notas) / len(notas)\n",
        "print(\"Nota media:\", media)\n",
        "nota_maxima = max(notas)\n",
        "print(\"Nota más alta:\", nota_maxima)\n",
        "nota_minima = min(notas)\n",
        "print(\"Nota más baja:\", nota_minima)"
      ],
      "metadata": {
        "colab": {
          "base_uri": "https://localhost:8080/"
        },
        "id": "8942SJv_yo1R",
        "outputId": "6cafbaae-0f25-4d32-e29f-bb9bbe9a008c"
      },
      "execution_count": 1,
      "outputs": [
        {
          "output_type": "stream",
          "name": "stdout",
          "text": [
            "Introduce la nota 1 (entre 0 y 10): 4\n",
            "Introduce la nota 2 (entre 0 y 10): 5\n",
            "Introduce la nota 3 (entre 0 y 10): 3\n",
            "Introduce la nota 4 (entre 0 y 10): 4\n",
            "Introduce la nota 5 (entre 0 y 10): 5\n",
            "\n",
            "Notas introducidas: [4.0, 5.0, 3.0, 4.0, 5.0]\n",
            "Nota media: 4.2\n",
            "Nota más alta: 5.0\n",
            "Nota más baja: 3.0\n"
          ]
        }
      ]
    },
    {
      "cell_type": "markdown",
      "source": [
        "6. Realizar un script que cree una una tabla bidimensional de 5x5 y nombre 'diagonal'. La Componentes de la tabla en su diagonales deben de ser 1 y el resto 0. Se ha de mostrar el contenido de la tabla por pantalla."
      ],
      "metadata": {
        "id": "ZQxqS603I8S1"
      }
    },
    {
      "cell_type": "code",
      "source": [
        "import numpy as np\n",
        "\n",
        "#Crear una matriz de 5x5 con ceros y la diagonal\n",
        "diagonal = np.zeros((5, 5), dtype=int)\n",
        "np.fill_diagonal(diagonal, 1)\n",
        "\n",
        "#La muestro\n",
        "print(diagonal)"
      ],
      "metadata": {
        "id": "b1tXQaS0ETrp",
        "colab": {
          "base_uri": "https://localhost:8080/"
        },
        "outputId": "a89c5c0c-5be6-4ce6-9a68-73ad2fae3693"
      },
      "execution_count": 4,
      "outputs": [
        {
          "output_type": "stream",
          "name": "stdout",
          "text": [
            "[[1 0 0 0 0]\n",
            " [0 1 0 0 0]\n",
            " [0 0 1 0 0]\n",
            " [0 0 0 1 0]\n",
            " [0 0 0 0 1]]\n"
          ]
        }
      ]
    },
    {
      "cell_type": "markdown",
      "source": [
        "7. Crea un script que pida un número y cree un diccionario cuyas claves sean desde el número 1 hasta el número indicado, y los valores sean los cuadrados de las claves.\n",
        "\n"
      ],
      "metadata": {
        "id": "Ah0c0PB1Nw_d"
      }
    },
    {
      "cell_type": "code",
      "source": [
        "num = int(input(\"Introduce un número: \"))\n",
        "\n",
        "#creo el diccionario\n",
        "diccionario = {i: i**2 for i in range(1, num + 1)}\n",
        "\n",
        "#Lo muestro\n",
        "print(diccionario)"
      ],
      "metadata": {
        "id": "OWcoMYqYEUez",
        "colab": {
          "base_uri": "https://localhost:8080/"
        },
        "outputId": "4b99e773-1095-4c73-cb97-c9268c7b8d6c"
      },
      "execution_count": 5,
      "outputs": [
        {
          "output_type": "stream",
          "name": "stdout",
          "text": [
            "Introduce un número: 20\n",
            "{1: 1, 2: 4, 3: 9, 4: 16, 5: 25, 6: 36, 7: 49, 8: 64, 9: 81, 10: 100, 11: 121, 12: 144, 13: 169, 14: 196, 15: 225, 16: 256, 17: 289, 18: 324, 19: 361, 20: 400}\n"
          ]
        }
      ]
    },
    {
      "cell_type": "markdown",
      "source": [
        "8. Crea un script de una agenda en la que se guardan nombres y números de teléfono. En la agenda existirá un menú con las siguientes opciones:\n",
        " * **Añadir/modificar**: Nos pide un nombre. Si el nombre se encuentra en la agenda, debe mostrar el teléfono y, opcionalmente, permitir modificarlo si no es correcto. Si el nombre no se encuentra, debe permitir ingresar el teléfono correspondiente.\n",
        " * **Buscar**: Nos pide una cadena de caracteres, y nos muestras todos los contactos cuyos nombres comiencen por dicha cadena.\n",
        " * **Borrar**: Nos pide un nombre y si existe nos preguntará si queremos borrarlo de la agenda.\n",
        " * **Listar**: Nos muestra todos los contactos de la agenda.\n",
        "\n",
        "  Implementar el script con un diccionario."
      ],
      "metadata": {
        "id": "6vqpqY3DJ88o"
      }
    },
    {
      "cell_type": "code",
      "source": [
        "agenda = {}\n",
        "\n",
        "#menú\n",
        "while True:\n",
        "    print(\"\\nAgenda de Contactos\")\n",
        "    print(\"1. Añadir contacto\")\n",
        "    print(\"2. Buscar contacto\")\n",
        "    print(\"3. Eliminar contacto\")\n",
        "    print(\"4. Mostrar todos los contactos\")\n",
        "    print(\"5. Salir\")\n",
        "\n",
        "    opcion = input(\"Elige una opción: \")\n",
        "\n",
        "#añadir el contacto\n",
        "\n",
        "    if opcion == '1':\n",
        "        nombre = input(\"Introduce el nombre del contacto: \")\n",
        "        telefono = input(\"Introduce el número de teléfono: \")\n",
        "        if nombre in agenda:\n",
        "            print(\"El contacto ya existe. Actualizando el número de teléfono.\")\n",
        "        agenda[nombre] = telefono\n",
        "        print(\"Contacto añadido/actualizado.\")\n",
        "\n",
        "#buscar el contacto\n",
        "\n",
        "    elif opcion == '2':\n",
        "        nombre = input(\"Introduce el nombre del contacto a buscar: \")\n",
        "        if nombre in agenda:\n",
        "            print(f\"El número de teléfono de {nombre} es {agenda[nombre]}\")\n",
        "        else:\n",
        "            print(\"El contacto no existe en la agenda.\")\n",
        "\n",
        "#Eliminar un contacto\n",
        "\n",
        "    elif opcion == '3':\n",
        "        nombre = input(\"Introduce el nombre del contacto a eliminar: \")\n",
        "        if nombre in agenda:\n",
        "            del agenda[nombre]\n",
        "            print(\"Contacto eliminado.\")\n",
        "        else:\n",
        "            print(\"El contacto no existe en la agenda.\")\n",
        "\n",
        "#Mostrar los contactos\n",
        "\n",
        "    elif opcion == '4':\n",
        "        if agenda:\n",
        "            print(\"Todos los contactos:\")\n",
        "            for nombre, telefono in agenda.items():\n",
        "                print(f\"{nombre}: {telefono}\")\n",
        "        else:\n",
        "            print(\"La agenda está vacía.\")\n",
        "\n",
        "    elif opcion == '5':\n",
        "        print(\"Saliendo del programa...\")\n",
        "        break\n",
        "\n",
        "    else:\n",
        "        print(\"Opción no válida. Por favor, elige una opción del 1 al 5.\")"
      ],
      "metadata": {
        "id": "GexEhTmSEVT4"
      },
      "execution_count": null,
      "outputs": []
    },
    {
      "cell_type": "markdown",
      "source": [
        "9. Crear un script que al introducir una fecha nos diga a que día juliano corresponde. El día juliano correspondiente a una fecha es un número entero que indica los días que han transcurrido desde el 1 de enero.Para ello debes de hacer las siguientes funciones:\n",
        " * **LeerFecha**: Lee por teclado el día, mes y el año.\n",
        " * **DiasDelMes**: Recibe un mes y un año y devuelve el número de días\n",
        " * **EsBisiesto**: Recibido un año nos dice si es bisiesto o no.\n",
        " * **Calcular_Dia_Juliano**: Recibe una fecha y nos devuelve el día juliano."
      ],
      "metadata": {
        "id": "-PHluINDPCH5"
      }
    },
    {
      "cell_type": "code",
      "source": [
        "#declaro la funcion para leer la fecha\n",
        "def leerfecha():\n",
        "    dia = int(input(\"Introduce el día: \"))\n",
        "    mes = int(input(\"Introduce el mes: \"))\n",
        "    año = int(input(\"Introduce el año: \"))\n",
        "    return dia, mes, año\n",
        "\n",
        "#a ver si es biciesto\n",
        "\n",
        "def esbisiesto(año):\n",
        "    return año % 4 == 0 and (año % 100 != 0 or año % 400 == 0)\n",
        "\n",
        "#calculo de los días del mes\n",
        "\n",
        "def diasdelmes(mes, año):\n",
        "    if mes in [1, 3, 5, 7, 8, 10, 12]:\n",
        "        return 31\n",
        "    elif mes == 2:\n",
        "        if esbisiesto(año):\n",
        "            return 29\n",
        "        else:\n",
        "            return 28\n",
        "    else:\n",
        "        return 30\n",
        "\n",
        "#calcular el día juliano\n",
        "\n",
        "def calcular_dia_juliano(dia, mes, año):\n",
        "    dias_juliano = 0\n",
        "    for m in range(1, mes):\n",
        "        dias_juliano += diasdelmes(m, año)\n",
        "    dias_juliano += dia\n",
        "    return dias_juliano\n",
        "\n",
        "dia, mes, año = leerfecha()\n",
        "\n",
        "if mes < 1 or mes > 12:\n",
        "    print(\"Mes no válido.\")\n",
        "elif dia < 1 or dia > diasdelmes(mes, año):\n",
        "    print(\"Día no válido para el mes y año dados.\")\n",
        "else:\n",
        "    dia_juliano = calcular_dia_juliano(dia, mes, año)\n",
        "    print(f\"El día juliano correspondiente a {dia}/{mes}/{año} es {dia_juliano}.\")"
      ],
      "metadata": {
        "id": "EbNdAbeBEV5g",
        "colab": {
          "base_uri": "https://localhost:8080/"
        },
        "outputId": "3d310c0b-dbd7-45b1-a0e8-d4c318495b8e"
      },
      "execution_count": 7,
      "outputs": [
        {
          "output_type": "stream",
          "name": "stdout",
          "text": [
            "Introduce el día: 30\n",
            "Introduce el mes: 08\n",
            "Introduce el año: 1995\n",
            "El día juliano correspondiente a 30/8/1995 es 242.\n"
          ]
        }
      ]
    },
    {
      "cell_type": "markdown",
      "source": [
        "\n",
        "10. Función CalcularMCD: Recibe dos números y devuelve el MCD utilizando el método de Euclides.\n",
        "El método de Euclides es el siguiente:\n",
        " * Se divide el número mayor entre el menor.\n",
        " * Si la división es exacta, el divisor es el MCD.\n",
        " * Si la división no es exacta, dividimos el divisor entre el resto obtenido y se continúa de esta forma hasta obtener una división exacta, siendo el último divisor el MCD.\n"
      ],
      "metadata": {
        "id": "xQCJ8l2QPU3m"
      }
    },
    {
      "cell_type": "code",
      "source": [
        "def calcularmcd(a, b):\n",
        "    while b != 0:\n",
        "        a, b = b, a % b\n",
        "    return a\n",
        "num1 = int(input(\"Introduce el primer número: \"))\n",
        "num2 = int(input(\"Introduce el segundo número: \"))\n",
        "\n",
        "mcd = calcularmcd(num1, num2)\n",
        "print(f\"El MCD de {num1} y {num2} es {mcd}.\")"
      ],
      "metadata": {
        "id": "KZWQBYhdEWow",
        "colab": {
          "base_uri": "https://localhost:8080/"
        },
        "outputId": "129c6344-4d3b-4989-aab4-a682287dc060"
      },
      "execution_count": 9,
      "outputs": [
        {
          "output_type": "stream",
          "name": "stdout",
          "text": [
            "Introduce el primer número: 12\n",
            "Introduce el segundo número: 6\n",
            "El MCD de 12 y 6 es 6.\n"
          ]
        }
      ]
    }
  ]
}